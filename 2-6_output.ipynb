{
 "cells": [
  {
   "cell_type": "code",
   "execution_count": 1,
   "metadata": {},
   "outputs": [],
   "source": [
    "# Q学習アウトプット"
   ]
  },
  {
   "cell_type": "code",
   "execution_count": 2,
   "metadata": {},
   "outputs": [],
   "source": [
    "import numpy as np\n",
    "import matplotlib.pyplot as plt\n",
    "%matplotlib inline"
   ]
  },
  {
   "cell_type": "code",
   "execution_count": 19,
   "metadata": {},
   "outputs": [
    {
     "data": {
      "image/png": "[encoded data removed]",
      "text/plain": [
       "<Figure size 360x360 with 1 Axes>"
      ]
     },
     "metadata": {
      "needs_background": "light"
     },
     "output_type": "display_data"
    }
   ],
   "source": [
    "# 初期位置での迷路の様子\n",
    "\n",
    "# 図を描く大きさと、図の変数名を宣言\n",
    "fig = plt.figure(figsize=(5, 5))\n",
    "ax = plt.gca()\n",
    "\n",
    "# かけませんでした\n",
    "\n",
    "# 状態を示す文字S0～S8を描く\n",
    "plt.text(0.5, 3.5, 'S0', size=14, ha='center')\n",
    "plt.text(1.5, 3.5, 'S1', size=14, ha='center')\n",
    "plt.text(2.5, 3.5, 'S2', size=14, ha='center')\n",
    "plt.text(3.5, 3.5, 'S3', size=14, ha='center')\n",
    "plt.text(0.5, 2.5, 'S4', size=14, ha='center')\n",
    "plt.text(1.5, 2.5, 'S5', size=14, ha='center')\n",
    "plt.text(2.5, 2.5, 'S6', size=14, ha='center')\n",
    "plt.text(3.5, 2.5, 'S7', size=14, ha='center')\n",
    "plt.text(0.5, 1.5, 'S8', size=14, ha='center')\n",
    "plt.text(1.5, 1.5, 'S9', size=14, ha='center')\n",
    "plt.text(2.5, 1.5, 'S10', size=14, ha='center')\n",
    "plt.text(3.5, 1.5, 'S11', size=14, ha='center')\n",
    "plt.text(0.5, 0.5, 'S12', size=14, ha='center')\n",
    "plt.text(1.5, 0.5, 'S13', size=14, ha='center')\n",
    "plt.text(2.5, 0.5, 'S14', size=14, ha='center')\n",
    "plt.text(3.5, 0.5, 'S15', size=14, ha='center')\n",
    "plt.text(0.5, 3.3, 'START', ha='center')\n",
    "plt.text(3.5, 0.3, 'GOAL', ha='center')\n",
    "\n",
    "# 描画範囲の設定と目盛りを消す設定\n",
    "ax.set_xlim(0, 4)\n",
    "ax.set_ylim(0, 4)\n",
    "plt.tick_params(axis='both', which='both', bottom='off', top='off',\n",
    "                labelbottom='off', right='off', left='off', labelleft='off')\n",
    "\n",
    "# 現在地S0に緑丸を描画する\n",
    "line, = ax.plot([0.5], [3.5], marker=\"o\", color='g', markersize=60)"
   ]
  },
  {
   "cell_type": "code",
   "execution_count": 20,
   "metadata": {},
   "outputs": [],
   "source": [
    "# 初期の方策配列を作成\n",
    "n = np.nan\n",
    "theta_0 = np.array(\n",
    "    [\n",
    "        [n,1,1,n], #s0\n",
    "        [n,1,n,1], #1\n",
    "        [n,1,1,1], #2\n",
    "        [n,n,n,1], #3\n",
    "        [1,1,n,n], #4\n",
    "        [n,1,1,1], #5\n",
    "        [1,1,n,1], #6\n",
    "        [n,n,1,1], #7\n",
    "        [n,n,1,1],\n",
    "        [1,n,n,1],\n",
    "        [n,n,1,n],\n",
    "        [1,n,n,n],\n",
    "        [1,1,n,n],\n",
    "        [n,1,n,1],\n",
    "        [1,1,n,1],\n",
    "])"
   ]
  },
  {
   "cell_type": "code",
   "execution_count": 21,
   "metadata": {},
   "outputs": [
    {
     "ename": "TypeError",
     "evalue": "Cannot interpret '4' as a data type",
     "output_type": "error",
     "traceback": [
      "\u001b[0;31m---------------------------------------------------------------------------\u001b[0m",
      "\u001b[0;31mTypeError\u001b[0m                                 Traceback (most recent call last)",
      "\u001b[0;32m/var/folders/hk/x9xsgxgd03l0dpwspjqw723h0000gn/T/ipykernel_3793/239705786.py\u001b[0m in \u001b[0;36m<module>\u001b[0;34m\u001b[0m\n\u001b[1;32m     10\u001b[0m \u001b[0;34m\u001b[0m\u001b[0m\n\u001b[1;32m     11\u001b[0m     \u001b[0;32mreturn\u001b[0m \u001b[0mpi\u001b[0m\u001b[0;34m\u001b[0m\u001b[0;34m\u001b[0m\u001b[0m\n\u001b[0;32m---> 12\u001b[0;31m \u001b[0mpi_0\u001b[0m \u001b[0;34m=\u001b[0m \u001b[0msimple_convert_into_pi_from_theta\u001b[0m\u001b[0;34m(\u001b[0m\u001b[0mtheta_0\u001b[0m\u001b[0;34m)\u001b[0m\u001b[0;34m\u001b[0m\u001b[0;34m\u001b[0m\u001b[0m\n\u001b[0m",
      "\u001b[0;32m/var/folders/hk/x9xsgxgd03l0dpwspjqw723h0000gn/T/ipykernel_3793/239705786.py\u001b[0m in \u001b[0;36msimple_convert_into_pi_from_theta\u001b[0;34m(theta)\u001b[0m\n\u001b[1;32m      2\u001b[0m \u001b[0;32mdef\u001b[0m \u001b[0msimple_convert_into_pi_from_theta\u001b[0m\u001b[0;34m(\u001b[0m\u001b[0mtheta\u001b[0m\u001b[0;34m)\u001b[0m\u001b[0;34m:\u001b[0m\u001b[0;34m\u001b[0m\u001b[0;34m\u001b[0m\u001b[0m\n\u001b[1;32m      3\u001b[0m     \u001b[0;34m[\u001b[0m\u001b[0mm\u001b[0m\u001b[0;34m,\u001b[0m\u001b[0mn\u001b[0m\u001b[0;34m]\u001b[0m \u001b[0;34m=\u001b[0m \u001b[0mtheta\u001b[0m\u001b[0;34m.\u001b[0m\u001b[0mshape\u001b[0m\u001b[0;34m\u001b[0m\u001b[0;34m\u001b[0m\u001b[0m\n\u001b[0;32m----> 4\u001b[0;31m     \u001b[0mpi\u001b[0m \u001b[0;34m=\u001b[0m \u001b[0mnp\u001b[0m\u001b[0;34m.\u001b[0m\u001b[0mzeros\u001b[0m\u001b[0;34m(\u001b[0m\u001b[0mm\u001b[0m\u001b[0;34m,\u001b[0m\u001b[0mn\u001b[0m\u001b[0;34m)\u001b[0m\u001b[0;34m\u001b[0m\u001b[0;34m\u001b[0m\u001b[0m\n\u001b[0m\u001b[1;32m      5\u001b[0m     \u001b[0;32mfor\u001b[0m \u001b[0mi\u001b[0m \u001b[0;32min\u001b[0m \u001b[0mrange\u001b[0m\u001b[0;34m(\u001b[0m\u001b[0mm\u001b[0m\u001b[0;34m,\u001b[0m\u001b[0;36m0\u001b[0m\u001b[0;34m)\u001b[0m\u001b[0;34m:\u001b[0m\u001b[0;34m\u001b[0m\u001b[0;34m\u001b[0m\u001b[0m\n\u001b[1;32m      6\u001b[0m         \u001b[0mpi\u001b[0m\u001b[0;34m[\u001b[0m\u001b[0mi\u001b[0m\u001b[0;34m,\u001b[0m\u001b[0;34m:\u001b[0m\u001b[0;34m]\u001b[0m \u001b[0;34m=\u001b[0m \u001b[0mtheta\u001b[0m\u001b[0;34m[\u001b[0m\u001b[0mi\u001b[0m\u001b[0;34m,\u001b[0m\u001b[0;34m:\u001b[0m\u001b[0;34m]\u001b[0m\u001b[0;34m/\u001b[0m\u001b[0mnp\u001b[0m\u001b[0;34m.\u001b[0m\u001b[0mnansum\u001b[0m\u001b[0;34m(\u001b[0m\u001b[0mtheta\u001b[0m\u001b[0;34m[\u001b[0m\u001b[0mi\u001b[0m\u001b[0;34m,\u001b[0m\u001b[0;34m:\u001b[0m\u001b[0;34m]\u001b[0m\u001b[0;34m)\u001b[0m\u001b[0;34m\u001b[0m\u001b[0;34m\u001b[0m\u001b[0m\n",
      "\u001b[0;31mTypeError\u001b[0m: Cannot interpret '4' as a data type"
     ]
    }
   ],
   "source": [
    "# 方策パラメータを割合の方策に変換する関数\n",
    "def simple_convert_into_pi_from_theta(theta):\n",
    "    [m,n] = theta.shape\n",
    "    pi = np.zeros(m,n)\n",
    "    for i in range(m):\n",
    "        pi[i,:] = theta[i,:]/np.nansum(theta[i,:])\n",
    "        print(pi[i,:])\n",
    "    print(\"nan_to_sumする前\",pi)\n",
    "    pi = np.nan_to_num(pi)\n",
    "\n",
    "    return pi\n",
    "pi_0 = simple_convert_into_pi_from_theta(theta_0)"
   ]
  },
  {
   "cell_type": "code",
   "execution_count": null,
   "metadata": {},
   "outputs": [],
   "source": []
  }
 ],
 "metadata": {
  "interpreter": {
   "hash": "214feee0f7faef44a23f065ee79797166960b5a227a47e096b2f122907632b8a"
  },
  "kernelspec": {
   "display_name": "Python 3.8.8 ('kagglenv')",
   "language": "python",
   "name": "python3"
  },
  "language_info": {
   "codemirror_mode": {
    "name": "ipython",
    "version": 3
   },
   "file_extension": ".py",
   "mimetype": "text/x-python",
   "name": "python",
   "nbconvert_exporter": "python",
   "pygments_lexer": "ipython3",
   "version": "3.8.8"
  },
  "orig_nbformat": 4
 },
 "nbformat": 4,
 "nbformat_minor": 2
}
